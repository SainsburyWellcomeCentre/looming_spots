{
 "cells": [
  {
   "cell_type": "code",
   "execution_count": null,
   "metadata": {
    "collapsed": true
   },
   "outputs": [],
   "source": [
    "import sys\n",
    "sys.path.append('./repositories/looming_spots/')\n",
    "from loom.analysis import looming_spot_analysis\n",
    "import skvideo.io\n",
    "\n",
    "path = './looming_adaptation/CA_30_2/170726/20170726_CA30_2_posttest_newLoomStadium-Camera.h264'\n",
    "rdr = skvideo.io.vreader(path)\n",
    "looming_spot_analysis.get_loom_train_starts(rdr)# run these two lines separately, the rdr may need to be reinstantiated each time you go through\n",
    "looming_spot_analysis.get_track(rdr) # run these two lines separately, the rdr may need to be reinstantiated each time you go through"
   ]
  }
 ],
 "metadata": {
  "kernelspec": {
   "display_name": "Python 3",
   "language": "python",
   "name": "python3"
  },
  "language_info": {
   "codemirror_mode": {
    "name": "ipython",
    "version": 3
   },
   "file_extension": ".py",
   "mimetype": "text/x-python",
   "name": "python",
   "nbconvert_exporter": "python",
   "pygments_lexer": "ipython3",
   "version": "3.5.3"
  }
 },
 "nbformat": 4,
 "nbformat_minor": 2
}
